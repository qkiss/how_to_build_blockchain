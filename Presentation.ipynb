{
 "cells": [
  {
   "cell_type": "markdown",
   "metadata": {},
   "source": [
    "<img src=\"img/intro.png\">"
   ]
  },
  {
   "cell_type": "markdown",
   "metadata": {},
   "source": [
    "# Introduction"
   ]
  },
  {
   "cell_type": "markdown",
   "metadata": {},
   "source": [
    "## Built on simple ideas"
   ]
  },
  {
   "cell_type": "markdown",
   "metadata": {},
   "source": [
    "- public-key cryptography\n",
    "- one-way functions\n",
    "- consensus\n",
    "- computationally-intensive proof of work"
   ]
  },
  {
   "cell_type": "markdown",
   "metadata": {},
   "source": [
    "# Block"
   ]
  },
  {
   "cell_type": "markdown",
   "metadata": {},
   "source": [
    "<img src=\"img/block.png\">"
   ]
  },
  {
   "cell_type": "code",
   "execution_count": 1,
   "metadata": {},
   "outputs": [],
   "source": [
    "import time\n",
    "\n",
    "class Block:\n",
    "    def __init__(self):\n",
    "        # to be implemented\n",
    "        pass"
   ]
  },
  {
   "cell_type": "markdown",
   "metadata": {},
   "source": [
    "## Spoiler"
   ]
  },
  {
   "cell_type": "code",
   "execution_count": 2,
   "metadata": {},
   "outputs": [],
   "source": [
    "import time\n",
    "import hashlib\n",
    "import json\n",
    "from datetime import datetime as dt\n",
    "\n",
    "class Block:\n",
    "    def __init__(self, index, payload, prev_hash):\n",
    "        self.index = index\n",
    "        self.timestamp = time.time()\n",
    "        self.payload = payload\n",
    "        self.prev_hash = prev_hash\n",
    "\n",
    "    def __repr__(self):\n",
    "        return f'<Block #{self.index}, payload={self.payload}, ' \\\n",
    "               f'hash={self.hash()}, datetime={dt.fromtimestamp(self.timestamp)}>'\n",
    "\n",
    "    def _sha(self):\n",
    "        sha = hashlib.sha256()\n",
    "        sha.update(bytes(self.index))\n",
    "        sha.update((str(self.timestamp) + json.dumps(self.payload) +\n",
    "                    self.prev_hash).encode('utf-8'))\n",
    "        return sha\n",
    "\n",
    "    def hash(self):\n",
    "        return self._sha().hexdigest()"
   ]
  },
  {
   "cell_type": "markdown",
   "metadata": {},
   "source": [
    "# Blockchain"
   ]
  },
  {
   "cell_type": "markdown",
   "metadata": {},
   "source": [
    "<img src=\"img/blockchain.png\">"
   ]
  },
  {
   "cell_type": "code",
   "execution_count": 3,
   "metadata": {},
   "outputs": [],
   "source": [
    "class Blockchain(object):\n",
    "    def __init__(self):\n",
    "        # to be implemented\n",
    "        pass"
   ]
  },
  {
   "cell_type": "markdown",
   "metadata": {},
   "source": [
    "## Spoiler"
   ]
  },
  {
   "cell_type": "code",
   "execution_count": 4,
   "metadata": {},
   "outputs": [],
   "source": [
    "class Blockchain(object):\n",
    "    def __init__(self):\n",
    "        self.index = 0\n",
    "        self.blocks = []\n",
    "        self.last_hash = ''\n",
    "\n",
    "    def __repr__(self):\n",
    "        return f'<Blockchain, height={len(self.blocks)}, ' \\\n",
    "               f'last 5 blocks={str(self.blocks[-5:])}>'\n",
    "\n",
    "    def add_block(self, payload):\n",
    "        block = Block(self.index, payload, self.last_hash)\n",
    "        self.blocks.append(block)\n",
    "        self.index += 1\n",
    "        self.last_hash = block.hash()\n",
    "        return block"
   ]
  },
  {
   "cell_type": "markdown",
   "metadata": {},
   "source": [
    "## Genesis block"
   ]
  },
  {
   "cell_type": "code",
   "execution_count": 5,
   "metadata": {},
   "outputs": [],
   "source": [
    "genesis_payload = 'The Times 03/Jan/2009 Chancellor on brink of second bailout for banks'"
   ]
  },
  {
   "cell_type": "code",
   "execution_count": 6,
   "metadata": {},
   "outputs": [
    {
     "data": {
      "text/plain": [
       "<Block #0, payload=The Times 03/Jan/2009 Chancellor on brink of second bailout for banks, hash=3a95a05ca7f6f7d292499fd39cf5d3bfb9df9745ddc92007de618daadd58b20e, datetime=2018-05-20 13:24:16.766456>"
      ]
     },
     "execution_count": 6,
     "metadata": {},
     "output_type": "execute_result"
    }
   ],
   "source": [
    "blockchain = Blockchain()\n",
    "blockchain.add_block(genesis_payload)"
   ]
  },
  {
   "cell_type": "markdown",
   "metadata": {},
   "source": [
    "## Adding blocks"
   ]
  },
  {
   "cell_type": "code",
   "execution_count": 7,
   "metadata": {},
   "outputs": [
    {
     "name": "stdout",
     "output_type": "stream",
     "text": [
      "Added block: <Block #1, payload=Payload #0, hash=b4d2cf0eb3a3a07d8734a9017478db7b6092902930f8af28adc432c55a593052, datetime=2018-05-20 13:24:16.780457>\n",
      "Added block: <Block #2, payload=Payload #1, hash=07ff1b4b29fff27b8a3abfba908b2417265cc0230bced4a50b789a1844959f23, datetime=2018-05-20 13:24:16.781457>\n",
      "Added block: <Block #3, payload=Payload #2, hash=d9b295ff287cc4db39cc84548592bc2dd25de1575bd754b665b3904b94a8bea2, datetime=2018-05-20 13:24:16.781457>\n",
      "Added block: <Block #4, payload=Payload #3, hash=112bdb1b5ecc0f7617bf7056b504fa5ad92f3b332aad96927afa81d0c9c20ad8, datetime=2018-05-20 13:24:16.781457>\n",
      "Added block: <Block #5, payload=Payload #4, hash=476250b98262dbf43a22b2466eddfd4a9e2b733df658ec3a4685a45f683f6369, datetime=2018-05-20 13:24:16.781457>\n",
      "Added block: <Block #6, payload=Payload #5, hash=a2df8f93dece04d36e9012c9b9b45f09ec5322306e9fb7de8f356b8258f9f34e, datetime=2018-05-20 13:24:16.781457>\n",
      "Added block: <Block #7, payload=Payload #6, hash=a5aecb58ba89839f14211a39083165b67bce44d024efe181463ca660a909ca77, datetime=2018-05-20 13:24:16.781457>\n",
      "Added block: <Block #8, payload=Payload #7, hash=1c0783464cc01cf354ea1673d3df3c675eb974eaf3bd1d7d4b454f48a6a0e4a9, datetime=2018-05-20 13:24:16.781457>\n",
      "Added block: <Block #9, payload=Payload #8, hash=f2bf2173245df97f47cb2c28bc2b5856eb3ee25323fd70ab841de51fe0c1c5a1, datetime=2018-05-20 13:24:16.782457>\n",
      "Added block: <Block #10, payload=Payload #9, hash=0661478482825fc9e6dc3b90d09852d2cb25713aae4507dc5d767dbce0f89262, datetime=2018-05-20 13:24:16.782457>\n"
     ]
    }
   ],
   "source": [
    "for i in range(0, 10):\n",
    "    block = blockchain.add_block(f'Payload #{i}')\n",
    "    print(f\"Added block: {block}\")"
   ]
  },
  {
   "cell_type": "markdown",
   "metadata": {},
   "source": [
    "## Verify"
   ]
  },
  {
   "cell_type": "code",
   "execution_count": 8,
   "metadata": {},
   "outputs": [],
   "source": [
    "def verify(blockchain):\n",
    "    for block, prev_block in zip(blockchain.blocks[1:], blockchain.blocks):\n",
    "        if block.prev_hash != prev_block.hash():\n",
    "            print(f'!!! Blockchain verification FAILED on block #{block.index} !!!')\n",
    "            break\n",
    "    else:\n",
    "        print('Blockchain verification PASSED')"
   ]
  },
  {
   "cell_type": "code",
   "execution_count": 9,
   "metadata": {},
   "outputs": [],
   "source": [
    "# to be implemented"
   ]
  },
  {
   "cell_type": "code",
   "execution_count": 10,
   "metadata": {},
   "outputs": [
    {
     "name": "stdout",
     "output_type": "stream",
     "text": [
      "Blockchain verification PASSED\n"
     ]
    }
   ],
   "source": [
    "verify(blockchain)"
   ]
  },
  {
   "cell_type": "code",
   "execution_count": 11,
   "metadata": {},
   "outputs": [
    {
     "name": "stdout",
     "output_type": "stream",
     "text": [
      "!!! Blockchain verification FAILED on block #6 !!!\n"
     ]
    }
   ],
   "source": [
    "blockchain.blocks[5].payload += '.'\n",
    "\n",
    "verify(blockchain)"
   ]
  },
  {
   "cell_type": "markdown",
   "metadata": {},
   "source": [
    "# Transaction"
   ]
  },
  {
   "cell_type": "code",
   "execution_count": 12,
   "metadata": {},
   "outputs": [],
   "source": [
    "from collections import namedtuple\n",
    "\n",
    "# to be implemented\n"
   ]
  },
  {
   "cell_type": "markdown",
   "metadata": {},
   "source": [
    "## Spoiler"
   ]
  },
  {
   "cell_type": "code",
   "execution_count": 13,
   "metadata": {},
   "outputs": [],
   "source": [
    "from collections import namedtuple\n",
    "\n",
    "Transaction = namedtuple('Transaction', 'addr_from, addr_to, amount')"
   ]
  },
  {
   "cell_type": "markdown",
   "metadata": {},
   "source": [
    "## Add block with transactions"
   ]
  },
  {
   "cell_type": "code",
   "execution_count": 14,
   "metadata": {},
   "outputs": [],
   "source": [
    "def add_test_transactions(blockchain):\n",
    "    blockchain.add_block([Transaction('1FDHiLF1CLnFZ2BZtPakPTY2sk2M8AJkiA',\n",
    "                                  '19PcPjKGiwdcTwMibqJVRAPY9sGx4XcRAx',\n",
    "                                  1.0)])\n",
    "\n",
    "    blockchain.add_block([Transaction('12vi3T1DifT4y7tyz5TGbyFQwj2opmmaia',\n",
    "                                      '1Gdw1B4dMTZHQUzv7ggnPmZWap9pjzyn4d',\n",
    "                                      2.3), \n",
    "                          Transaction('1PTTZ2gKWBKPuC8JKtFd5sDbT4XQgEzvSL',\n",
    "                                      '12FuBeX5Ruyd4UxeCeHuAABuQ9cD2aGQKo',\n",
    "                                      10.0)])\n",
    "\n",
    "    blockchain.add_block([Transaction('19PcPjKGiwdcTwMibqJVRAPY9sGx4XcRAx',\n",
    "                                      '1FDHiLF1CLnFZ2BZtPakPTY2sk2M8AJkiA',\n",
    "                                      1.0)])"
   ]
  },
  {
   "cell_type": "code",
   "execution_count": 15,
   "metadata": {},
   "outputs": [],
   "source": [
    "# to be implemented"
   ]
  },
  {
   "cell_type": "code",
   "execution_count": 16,
   "metadata": {},
   "outputs": [
    {
     "name": "stdout",
     "output_type": "stream",
     "text": [
      "<Blockchain, height=4, last 5 blocks=[<Block #0, payload=The Times 03/Jan/2009 Chancellor on brink of second bailout for banks, hash=8e996e575c69769125b7183b15441ded4ddf5d1f0748a6a5401bc81a9b98a00b, datetime=2018-05-20 13:24:16.882463>, <Block #1, payload=[Transaction(addr_from='1FDHiLF1CLnFZ2BZtPakPTY2sk2M8AJkiA', addr_to='19PcPjKGiwdcTwMibqJVRAPY9sGx4XcRAx', amount=1.0)], hash=ae8b95e0cd6914266012b95648e28c0c6bf3c3f040328857377492fc0b193f79, datetime=2018-05-20 13:24:16.882463>, <Block #2, payload=[Transaction(addr_from='12vi3T1DifT4y7tyz5TGbyFQwj2opmmaia', addr_to='1Gdw1B4dMTZHQUzv7ggnPmZWap9pjzyn4d', amount=2.3), Transaction(addr_from='1PTTZ2gKWBKPuC8JKtFd5sDbT4XQgEzvSL', addr_to='12FuBeX5Ruyd4UxeCeHuAABuQ9cD2aGQKo', amount=10.0)], hash=21585c1a9fa0ba22e4bfae9d1697b91744fcd25e1d963d239d4351405de9f80d, datetime=2018-05-20 13:24:16.882463>, <Block #3, payload=[Transaction(addr_from='19PcPjKGiwdcTwMibqJVRAPY9sGx4XcRAx', addr_to='1FDHiLF1CLnFZ2BZtPakPTY2sk2M8AJkiA', amount=1.0)], hash=8b11a90c4fc5b3719879cb435297b190b87310b2f9883f197bade849adee3480, datetime=2018-05-20 13:24:16.882463>]>\n"
     ]
    }
   ],
   "source": [
    "blockchain = Blockchain()\n",
    "blockchain.add_block(genesis_payload)\n",
    "\n",
    "add_test_transactions(blockchain)\n",
    "\n",
    "print(blockchain)"
   ]
  },
  {
   "cell_type": "markdown",
   "metadata": {},
   "source": [
    "# Mining"
   ]
  },
  {
   "cell_type": "markdown",
   "metadata": {},
   "source": [
    "<img src=\"img/blockchain2.png\">"
   ]
  },
  {
   "cell_type": "markdown",
   "metadata": {},
   "source": [
    "<img src=\"img/difficulty.png\">"
   ]
  },
  {
   "cell_type": "markdown",
   "metadata": {},
   "source": [
    "## Spoiler"
   ]
  },
  {
   "cell_type": "code",
   "execution_count": 17,
   "metadata": {},
   "outputs": [],
   "source": [
    "class Block:\n",
    "    def __init__(self, index, payload, prev_hash):\n",
    "        self.index = index\n",
    "        self.timestamp = time.time()\n",
    "        self.payload = payload\n",
    "        self.prev_hash = prev_hash\n",
    "        self.nonce = 0\n",
    "        self.difficulty = 0\n",
    "\n",
    "    def __repr__(self):\n",
    "        return f'<Block #{self.index}, payload={self.payload}, ' \\\n",
    "               f'hash={self.hash()}, nonce={self.nonce}, diff={self.difficulty}, ' \\\n",
    "               f'datetime={dt.fromtimestamp(self.timestamp)}, ' \\\n",
    "               f'prev_hash={self.prev_hash}>'\n",
    "\n",
    "    def _sha(self):\n",
    "        sha = hashlib.sha256()\n",
    "        sha.update(bytes(self.index) + bytes(self.nonce) + bytes(self.difficulty))\n",
    "        sha.update((str(self.timestamp) + json.dumps(self.payload) + \n",
    "                    self.prev_hash).encode('utf-8'))\n",
    "        return sha\n",
    "\n",
    "    def hash(self):\n",
    "        return self._sha().hexdigest()\n",
    "\n",
    "    def difficulty_matches(self):\n",
    "        bits = ''.join(f\"{c:08b}\" for c in self._sha().digest())\n",
    "        prefix = bits[:self.difficulty]\n",
    "        mask = '0' * self.difficulty\n",
    "        return prefix == mask\n",
    "\n",
    "    def mine(self, difficulty):\n",
    "        self.difficulty = difficulty\n",
    "        while not self.difficulty_matches():\n",
    "            self.nonce += 1\n",
    "\n",
    "\n",
    "class Blockchain(object):\n",
    "    def __init__(self):\n",
    "        self.index = 0\n",
    "        self.last_hash = ''\n",
    "        self.blocks = []\n",
    "        self.difficulty = 0\n",
    "        self.add_block('The Times 03/Jan/2009 Chancellor on brink of second bailout ' \\\n",
    "                       'for banks')\n",
    "\n",
    "    def __repr__(self):\n",
    "        return f'<Blockchain, height={len(self.blocks)}, ' \\\n",
    "               f'last 5 blocks={str(self.blocks[-5:])}>'\n",
    "\n",
    "    def add_block(self, payload):\n",
    "        block = Block(self.index, payload, self.last_hash)\n",
    "        block.mine(self.difficulty)\n",
    "        self.blocks.append(block)\n",
    "        self.index += 1\n",
    "        self.last_hash = block.hash()\n",
    "        return block\n",
    "    \n",
    "    def verify(self):\n",
    "        for block, prev_block in zip(self.blocks[1:], self.blocks):\n",
    "            if block.prev_hash != prev_block.hash():\n",
    "                print(f'Verification FAILED on block #{block.index}')\n",
    "                break\n",
    "        else:\n",
    "            print('Verification PASSED')"
   ]
  },
  {
   "cell_type": "markdown",
   "metadata": {},
   "source": [
    "## Mining (difficulty=0)"
   ]
  },
  {
   "cell_type": "code",
   "execution_count": 18,
   "metadata": {},
   "outputs": [
    {
     "name": "stdout",
     "output_type": "stream",
     "text": [
      "Time elapsed: 0.0\n",
      "Verification PASSED\n",
      "<Blockchain, height=4, last 5 blocks=[<Block #0, payload=The Times 03/Jan/2009 Chancellor on brink of second bailout for banks, hash=dedaecb22aef2a6b3f5681a284b39930328608a39b3ec6821d25492b83806a28, nonce=0, diff=0, datetime=2018-05-20 13:24:17.026269, prev_hash=>, <Block #1, payload=[Transaction(addr_from='1FDHiLF1CLnFZ2BZtPakPTY2sk2M8AJkiA', addr_to='19PcPjKGiwdcTwMibqJVRAPY9sGx4XcRAx', amount=1.0)], hash=ac1fb2abfad522802ffad83fb4bc9ebccbc51f67a47933e07a1dde6b8b89df1a, nonce=0, diff=0, datetime=2018-05-20 13:24:17.026269, prev_hash=dedaecb22aef2a6b3f5681a284b39930328608a39b3ec6821d25492b83806a28>, <Block #2, payload=[Transaction(addr_from='12vi3T1DifT4y7tyz5TGbyFQwj2opmmaia', addr_to='1Gdw1B4dMTZHQUzv7ggnPmZWap9pjzyn4d', amount=2.3), Transaction(addr_from='1PTTZ2gKWBKPuC8JKtFd5sDbT4XQgEzvSL', addr_to='12FuBeX5Ruyd4UxeCeHuAABuQ9cD2aGQKo', amount=10.0)], hash=8f96d97dd8c8dc8f3912713b14b04f3979c20ba49f1a135ffd94d76e82b2af78, nonce=0, diff=0, datetime=2018-05-20 13:24:17.026269, prev_hash=ac1fb2abfad522802ffad83fb4bc9ebccbc51f67a47933e07a1dde6b8b89df1a>, <Block #3, payload=[Transaction(addr_from='19PcPjKGiwdcTwMibqJVRAPY9sGx4XcRAx', addr_to='1FDHiLF1CLnFZ2BZtPakPTY2sk2M8AJkiA', amount=1.0)], hash=428a3e98afc41b15cefbc2282281c6a8f1f9a9f7fc78e8fdaec70edb5512a7a0, nonce=0, diff=0, datetime=2018-05-20 13:24:17.026269, prev_hash=8f96d97dd8c8dc8f3912713b14b04f3979c20ba49f1a135ffd94d76e82b2af78>]>\n"
     ]
    }
   ],
   "source": [
    "blockchain = Blockchain()\n",
    "\n",
    "t = time.time()\n",
    "add_test_transactions(blockchain)\n",
    "print(f'Time elapsed: {time.time() - t}')\n",
    "\n",
    "blockchain.verify()\n",
    "print(blockchain)"
   ]
  },
  {
   "cell_type": "markdown",
   "metadata": {},
   "source": [
    "## Mining (difficulty=14)"
   ]
  },
  {
   "cell_type": "code",
   "execution_count": 19,
   "metadata": {},
   "outputs": [
    {
     "name": "stdout",
     "output_type": "stream",
     "text": [
      "Time elapsed: 7.965010643005371\n",
      "Verification PASSED\n",
      "<Blockchain, height=4, last 5 blocks=[<Block #0, payload=The Times 03/Jan/2009 Chancellor on brink of second bailout for banks, hash=e1ff49846f392a9003f0067311f58790f97d12ba891935864d16c27139043783, nonce=0, diff=0, datetime=2018-05-20 13:24:17.035269, prev_hash=>, <Block #1, payload=[Transaction(addr_from='1FDHiLF1CLnFZ2BZtPakPTY2sk2M8AJkiA', addr_to='19PcPjKGiwdcTwMibqJVRAPY9sGx4XcRAx', amount=1.0)], hash=00017e29b67c429554e9b490388c38400342034a6af7e6f0938e25b3a7b5e2bb, nonce=62389, diff=14, datetime=2018-05-20 13:24:17.036269, prev_hash=e1ff49846f392a9003f0067311f58790f97d12ba891935864d16c27139043783>, <Block #2, payload=[Transaction(addr_from='12vi3T1DifT4y7tyz5TGbyFQwj2opmmaia', addr_to='1Gdw1B4dMTZHQUzv7ggnPmZWap9pjzyn4d', amount=2.3), Transaction(addr_from='1PTTZ2gKWBKPuC8JKtFd5sDbT4XQgEzvSL', addr_to='12FuBeX5Ruyd4UxeCeHuAABuQ9cD2aGQKo', amount=10.0)], hash=0000482b8522c6d452bdbc4448106ee05079c568561bd517a1b1c2e53219a352, nonce=1086, diff=14, datetime=2018-05-20 13:24:24.923280, prev_hash=00017e29b67c429554e9b490388c38400342034a6af7e6f0938e25b3a7b5e2bb>, <Block #3, payload=[Transaction(addr_from='19PcPjKGiwdcTwMibqJVRAPY9sGx4XcRAx', addr_to='1FDHiLF1CLnFZ2BZtPakPTY2sk2M8AJkiA', amount=1.0)], hash=0002707d457330ca1b28642b2166f83d4dff48d52591be5534892ee0c2d9eea3, nonce=1715, diff=14, datetime=2018-05-20 13:24:24.954480, prev_hash=0000482b8522c6d452bdbc4448106ee05079c568561bd517a1b1c2e53219a352>]>\n"
     ]
    }
   ],
   "source": [
    "blockchain = Blockchain()\n",
    "blockchain.difficulty = 14\n",
    "\n",
    "t = time.time()\n",
    "add_test_transactions(blockchain)\n",
    "print(f'Time elapsed: {time.time() - t}')\n",
    "\n",
    "blockchain.verify()\n",
    "print(blockchain)"
   ]
  },
  {
   "cell_type": "markdown",
   "metadata": {},
   "source": [
    "## Difficulty forging"
   ]
  },
  {
   "cell_type": "code",
   "execution_count": 20,
   "metadata": {},
   "outputs": [
    {
     "name": "stdout",
     "output_type": "stream",
     "text": [
      "Verification FAILED on block #3\n"
     ]
    }
   ],
   "source": [
    "blockchain.blocks[2].difficulty = 1\n",
    "blockchain.verify()"
   ]
  },
  {
   "cell_type": "markdown",
   "metadata": {},
   "source": [
    "## Transaction forging"
   ]
  },
  {
   "cell_type": "code",
   "execution_count": 21,
   "metadata": {},
   "outputs": [
    {
     "name": "stdout",
     "output_type": "stream",
     "text": [
      "Verification FAILED on block #2\n",
      "<Blockchain, height=4, last 5 blocks=[<Block #0, payload=The Times 03/Jan/2009 Chancellor on brink of second bailout for banks, hash=e1ff49846f392a9003f0067311f58790f97d12ba891935864d16c27139043783, nonce=0, diff=0, datetime=2018-05-20 13:24:17.035269, prev_hash=>, <Block #1, payload=[Transaction(addr_from='1FDHiLF1CLnFZ2BZtPakPTY2sk2M8AJkiA', addr_to='19PcPjKGiwdcTwMibqJVRAPY9sGx4XcRAx', amount=1.0), Transaction(addr_from='victim address', addr_to='hackers address', amount=1000000.0)], hash=87f8ed332eebb210ec8c1e4516f0d121a215e546383d05eeb44f8d1f0776417f, nonce=62389, diff=14, datetime=2018-05-20 13:24:17.036269, prev_hash=e1ff49846f392a9003f0067311f58790f97d12ba891935864d16c27139043783>, <Block #2, payload=[Transaction(addr_from='12vi3T1DifT4y7tyz5TGbyFQwj2opmmaia', addr_to='1Gdw1B4dMTZHQUzv7ggnPmZWap9pjzyn4d', amount=2.3), Transaction(addr_from='1PTTZ2gKWBKPuC8JKtFd5sDbT4XQgEzvSL', addr_to='12FuBeX5Ruyd4UxeCeHuAABuQ9cD2aGQKo', amount=10.0)], hash=7acfe1d13964f7a5f6d613e2ee38af3cc0bc0adb6175a3a2246b6b108652550f, nonce=1086, diff=1, datetime=2018-05-20 13:24:24.923280, prev_hash=00017e29b67c429554e9b490388c38400342034a6af7e6f0938e25b3a7b5e2bb>, <Block #3, payload=[Transaction(addr_from='19PcPjKGiwdcTwMibqJVRAPY9sGx4XcRAx', addr_to='1FDHiLF1CLnFZ2BZtPakPTY2sk2M8AJkiA', amount=1.0)], hash=0002707d457330ca1b28642b2166f83d4dff48d52591be5534892ee0c2d9eea3, nonce=1715, diff=14, datetime=2018-05-20 13:24:24.954480, prev_hash=0000482b8522c6d452bdbc4448106ee05079c568561bd517a1b1c2e53219a352>]>\n"
     ]
    }
   ],
   "source": [
    "blockchain.blocks[1].payload.append(Transaction('victim address', 'hackers address', 1000000.0))\n",
    "\n",
    "blockchain.verify()\n",
    "print(blockchain)"
   ]
  },
  {
   "cell_type": "markdown",
   "metadata": {
    "heading_collapsed": true
   },
   "source": [
    "# Conclusions"
   ]
  },
  {
   "cell_type": "markdown",
   "metadata": {
    "heading_collapsed": true,
    "hidden": true
   },
   "source": [
    "### That wasn't hard, was it? :)"
   ]
  },
  {
   "cell_type": "markdown",
   "metadata": {
    "hidden": true
   },
   "source": [
    "### Exploration areas\n",
    "- transactions + addresses (public-key cryptography)\n",
    "- distributed consensus (51% attack)\n",
    "- transaction tree (Merkle trees)\n",
    "- scripting (Bitcoin \"smart transactions\")\n",
    "- other implementations (Ethereum, IOTA, ...)"
   ]
  },
  {
   "cell_type": "markdown",
   "metadata": {
    "heading_collapsed": true
   },
   "source": [
    "# Q&A"
   ]
  },
  {
   "cell_type": "markdown",
   "metadata": {},
   "source": [
    "# The End...?"
   ]
  },
  {
   "cell_type": "markdown",
   "metadata": {},
   "source": [
    "#### Email: <lukasz.szweda@nordea.com> <lukasz.szweda@gmail.com>\n",
    "#### GitHub: https://github.com/qkiss\n",
    "#### LinkedIn: https://www.linkedin.com/in/łukasz-szweda-48255a39/"
   ]
  },
  {
   "cell_type": "markdown",
   "metadata": {},
   "source": [
    "<img src=\"img/outro.png\">"
   ]
  }
 ],
 "metadata": {
  "kernelspec": {
   "display_name": "Python 3",
   "language": "python",
   "name": "python3"
  },
  "language_info": {
   "codemirror_mode": {
    "name": "ipython",
    "version": 3
   },
   "file_extension": ".py",
   "mimetype": "text/x-python",
   "name": "python",
   "nbconvert_exporter": "python",
   "pygments_lexer": "ipython3",
   "version": "3.6.5"
  }
 },
 "nbformat": 4,
 "nbformat_minor": 2
}
